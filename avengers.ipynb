{
 "cells": [
  {
   "cell_type": "code",
   "execution_count": 1,
   "id": "0a8ef6ad",
   "metadata": {},
   "outputs": [
    {
     "name": "stdout",
     "output_type": "stream",
     "text": [
      "Playing trailer for Avengers: Endgame\n",
      "Trailer URL: https://youtu.be/TcMBFSGVi1c\n",
      "Movie Information:\n",
      "Title: Avengers: Endgame\n",
      "Storyline: The remaining Avengers join forces with allies to reverse the damage caused by Thanos and bring back the fallen heroes.\n",
      "Release Date: April 26, 2019\n",
      "Rating: 10/10\n",
      "Trailer URL: https://youtu.be/TcMBFSGVi1c\n",
      "Director: Anthony Russo, Joe Russo\n",
      "Box Office: $2.798 billion USD\n"
     ]
    }
   ],
   "source": [
    "#Using HardCoded\n",
    "\n",
    "def show_trailer(title, youtube_url):\n",
    "    # Open Browser and play trailer\n",
    "    print(f\"Playing trailer for {title}\")\n",
    "    print(f\"Trailer URL: {youtube_url}\")\n",
    "    # Add code to open the browser and play the trailer\n",
    "\n",
    "show_trailer(\"Avengers: Endgame\", \"https://youtu.be/TcMBFSGVi1c\")\n",
    "\n",
    "def show_info(title, storyline, release_date, rating, youtube_url, director, box_office):\n",
    "    # Print movie information\n",
    "    print(\"Movie Information:\")\n",
    "    print(f\"Title: {title}\")\n",
    "    print(f\"Storyline: {storyline}\")\n",
    "    print(f\"Release Date: {release_date}\")\n",
    "    print(f\"Rating: {rating}\")\n",
    "    print(f\"Trailer URL: {youtube_url}\")\n",
    "    print(f\"Director: {director}\")\n",
    "    print(f\"Box Office: {box_office}\")\n",
    "\n",
    "    \n",
    "show_info(\"Avengers: Endgame\", \"The remaining Avengers join forces with allies to reverse the damage caused by Thanos and bring back the fallen heroes.\"\n",
    "         , \"April 26, 2019\", \"10/10\", \"https://youtu.be/TcMBFSGVi1c\", \"Anthony Russo, Joe Russo\", \"$2.798 billion USD\")"
   ]
  },
  {
   "cell_type": "code",
   "execution_count": null,
   "id": "ee6b79a8",
   "metadata": {},
   "outputs": [],
   "source": []
  },
  {
   "cell_type": "code",
   "execution_count": 2,
   "id": "a12d4f5a",
   "metadata": {},
   "outputs": [
    {
     "name": "stdout",
     "output_type": "stream",
     "text": [
      "Title: Avengers: Endgame\n",
      "Storyline: The remaining Avengers join forces with allies to reverse the damage caused by Thanos and bring back the fallen heroes.\n",
      "Release Date: April 26, 2019\n",
      "Rating: 10/10\n",
      "Trailer URL: https://youtu.be/TcMBFSGVi1c\n",
      "Director: Anthony Russo, Joe Russo\n",
      "Box Office: $2.798 billion USD\n"
     ]
    }
   ],
   "source": [
    "#Using WebBrowser\n",
    "\n",
    "import webbrowser\n",
    "\n",
    "def show_trailer(title, youtube_url):\n",
    "    # Open Browser and play trailer\n",
    "    webbrowser.open(youtube_url)\n",
    "    show_info(title, \"The remaining Avengers join forces with allies to reverse the damage caused by Thanos and bring back the fallen heroes.\"\n",
    "         , \"April 26, 2019\", \"10/10\", youtube_url, \"Anthony Russo, Joe Russo\", \"$2.798 billion USD\")\n",
    "    \n",
    "def show_info(title, storyline, release_date, rating, youtube_url, director, box_office):\n",
    "    # Print movie information\n",
    "    print(f\"Title: {title}\")\n",
    "    print(f\"Storyline: {storyline}\")\n",
    "    print(f\"Release Date: {release_date}\")\n",
    "    print(f\"Rating: {rating}\")\n",
    "    print(f\"Trailer URL: {youtube_url}\")\n",
    "    print(f\"Director: {director}\")\n",
    "    print(f\"Box Office: {box_office}\")\n",
    "    \n",
    "show_trailer(\"Avengers: Endgame\", \"https://youtu.be/TcMBFSGVi1c\")"
   ]
  },
  {
   "cell_type": "code",
   "execution_count": null,
   "id": "c33c5d58",
   "metadata": {},
   "outputs": [],
   "source": []
  },
  {
   "cell_type": "code",
   "execution_count": 3,
   "id": "f1bb9966",
   "metadata": {},
   "outputs": [
    {
     "name": "stdout",
     "output_type": "stream",
     "text": [
      "Playing trailer for Avengers: Endgame\n",
      "Trailer URL: https://youtu.be/TcMBFSGVi1c\n",
      "Movie Information:\n",
      "Title: Avengers: Endgame\n",
      "Storyline: The remaining Avengers join forces with allies to reverse the damage caused by Thanos and bring back the fallen heroes.\n",
      "Release Date: April 26, 2019\n",
      "Rating: 10/10\n",
      "Trailer URL: https://youtu.be/TcMBFSGVi1c\n",
      "Director: Anthony Russo, Joe Russo\n",
      "Box Office: $2.798 billion USD\n",
      "\n",
      "\n",
      "Playing trailer for Inception\n",
      "Trailer URL: https://youtu.be/YoHD9XEInc0\n",
      "Movie Information:\n",
      "Title: Inception\n",
      "Storyline: A thief enters people's dreams to steal information\n",
      "Release Date: September 11, 2010\n",
      "Rating: 9/10\n",
      "Trailer URL: https://youtu.be/YoHD9XEInc0\n",
      "Director: Christopher Nolan\n",
      "Box Office: 836.8 million USD\n"
     ]
    }
   ],
   "source": [
    "#Using Classes\n",
    "\n",
    "class Movie:\n",
    "    def __init__(self, title, storyline, release_date, rating, youtube_url, director, box_office):\n",
    "        self.title = title\n",
    "        self.youtube_url = youtube_url\n",
    "        self.storyline = storyline\n",
    "        self.release_date = release_date\n",
    "        self.rating = rating\n",
    "        self.youtube_url = youtube_url\n",
    "        self.director = director\n",
    "        self.box_office = box_office\n",
    "\n",
    "    def show_trailer(self):\n",
    "        # Open Browser and play trailer\n",
    "        print(f\"Playing trailer for {self.title}\")\n",
    "        print(f\"Trailer URL: {self.youtube_url}\")\n",
    "        # Add code to open the browser and play the trailer\n",
    "\n",
    "    def show_info(self):\n",
    "        # Print movie information\n",
    "        print(\"Movie Information:\")\n",
    "        print(f\"Title: {self.title}\")\n",
    "        print(f\"Storyline: {self.storyline}\")\n",
    "        print(f\"Release Date: {self.release_date}\")\n",
    "        print(f\"Rating: {self.rating}\")\n",
    "        print(f\"Trailer URL: {self.youtube_url}\")\n",
    "        print(f\"Director: {self.director}\")\n",
    "        print(f\"Box Office: {self.box_office}\")\n",
    "\n",
    "\n",
    "# Creating instances of Movie class\n",
    "avengers = Movie(\"Avengers: Endgame\", \"The remaining Avengers join forces with allies to reverse the damage caused by Thanos and bring back the fallen heroes.\",\n",
    "         \"April 26, 2019\", \"10/10\", \"https://youtu.be/TcMBFSGVi1c\", \"Anthony Russo, Joe Russo\", \"$2.798 billion USD\")\n",
    "inception = Movie(\"Inception\", \"A thief enters people's dreams to steal information\", \"September 11, 2010\", \"9/10\", \n",
    "                  \"https://youtu.be/YoHD9XEInc0\", \"Christopher Nolan\", \"836.8 million USD\")\n",
    "\n",
    "# Example usage:\n",
    "avengers.show_trailer()\n",
    "avengers.show_info()\n",
    "print('\\n')\n",
    "inception.show_trailer()\n",
    "inception.show_info()\n"
   ]
  },
  {
   "cell_type": "code",
   "execution_count": null,
   "id": "34f0afea",
   "metadata": {},
   "outputs": [],
   "source": []
  }
 ],
 "metadata": {
  "kernelspec": {
   "display_name": "Python 3 (ipykernel)",
   "language": "python",
   "name": "python3"
  },
  "language_info": {
   "codemirror_mode": {
    "name": "ipython",
    "version": 3
   },
   "file_extension": ".py",
   "mimetype": "text/x-python",
   "name": "python",
   "nbconvert_exporter": "python",
   "pygments_lexer": "ipython3",
   "version": "3.11.3"
  }
 },
 "nbformat": 4,
 "nbformat_minor": 5
}
